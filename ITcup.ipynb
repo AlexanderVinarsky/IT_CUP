{
  "cells": [
    {
      "cell_type": "code",
      "execution_count": 158,
      "metadata": {
        "id": "bdLxyDehoMHT",
        "colab": {
          "base_uri": "https://localhost:8080/"
        },
        "outputId": "b6abb169-a2a9-4a46-c280-1371d0e44252"
      },
      "outputs": [
        {
          "output_type": "stream",
          "name": "stdout",
          "text": [
            "Looking in indexes: https://pypi.org/simple, https://us-python.pkg.dev/colab-wheels/public/simple/\n",
            "Requirement already satisfied: transformers in /usr/local/lib/python3.9/dist-packages (4.27.1)\n",
            "Requirement already satisfied: requests in /usr/local/lib/python3.9/dist-packages (from transformers) (2.27.1)\n",
            "Requirement already satisfied: pyyaml>=5.1 in /usr/local/lib/python3.9/dist-packages (from transformers) (6.0)\n",
            "Requirement already satisfied: tokenizers!=0.11.3,<0.14,>=0.11.1 in /usr/local/lib/python3.9/dist-packages (from transformers) (0.13.2)\n",
            "Requirement already satisfied: packaging>=20.0 in /usr/local/lib/python3.9/dist-packages (from transformers) (23.0)\n",
            "Requirement already satisfied: regex!=2019.12.17 in /usr/local/lib/python3.9/dist-packages (from transformers) (2022.10.31)\n",
            "Requirement already satisfied: huggingface-hub<1.0,>=0.11.0 in /usr/local/lib/python3.9/dist-packages (from transformers) (0.13.2)\n",
            "Requirement already satisfied: tqdm>=4.27 in /usr/local/lib/python3.9/dist-packages (from transformers) (4.65.0)\n",
            "Requirement already satisfied: filelock in /usr/local/lib/python3.9/dist-packages (from transformers) (3.10.0)\n",
            "Requirement already satisfied: numpy>=1.17 in /usr/local/lib/python3.9/dist-packages (from transformers) (1.22.4)\n",
            "Requirement already satisfied: typing-extensions>=3.7.4.3 in /usr/local/lib/python3.9/dist-packages (from huggingface-hub<1.0,>=0.11.0->transformers) (4.5.0)\n",
            "Requirement already satisfied: idna<4,>=2.5 in /usr/local/lib/python3.9/dist-packages (from requests->transformers) (3.4)\n",
            "Requirement already satisfied: urllib3<1.27,>=1.21.1 in /usr/local/lib/python3.9/dist-packages (from requests->transformers) (1.26.15)\n",
            "Requirement already satisfied: certifi>=2017.4.17 in /usr/local/lib/python3.9/dist-packages (from requests->transformers) (2022.12.7)\n",
            "Requirement already satisfied: charset-normalizer~=2.0.0 in /usr/local/lib/python3.9/dist-packages (from requests->transformers) (2.0.12)\n"
          ]
        }
      ],
      "source": [
        "!pip install transformers"
      ]
    },
    {
      "cell_type": "code",
      "execution_count": 159,
      "metadata": {
        "colab": {
          "base_uri": "https://localhost:8080/"
        },
        "id": "LtJ1UAq7maQi",
        "outputId": "32c4ea46-5cac-4bcc-993a-351543ce4398"
      },
      "outputs": [
        {
          "output_type": "stream",
          "name": "stdout",
          "text": [
            "Drive already mounted at /content/drive; to attempt to forcibly remount, call drive.mount(\"/content/drive\", force_remount=True).\n"
          ]
        }
      ],
      "source": [
        "from google.colab import drive\n",
        "drive.mount('/content/drive')"
      ]
    },
    {
      "cell_type": "code",
      "execution_count": 160,
      "metadata": {
        "colab": {
          "base_uri": "https://localhost:8080/"
        },
        "id": "ZHkxcP-HmJ2g",
        "outputId": "b8959933-5169-43d9-9fc1-5d2a411efbf1"
      },
      "outputs": [
        {
          "output_type": "stream",
          "name": "stderr",
          "text": [
            "[nltk_data] Downloading package stopwords to /root/nltk_data...\n",
            "[nltk_data]   Package stopwords is already up-to-date!\n"
          ]
        }
      ],
      "source": [
        "import json\n",
        "import gensim.downloader as api\n",
        "import numpy as np\n",
        "import torch\n",
        "import string\n",
        "import transformers\n",
        "import gensim\n",
        "from transformers import DistilBertModel, DistilBertTokenizer, logging\n",
        "\n",
        "import nltk\n",
        "from nltk import word_tokenize\n",
        "from nltk.corpus import stopwords\n",
        "from nltk.stem.porter import PorterStemmer\n",
        "\n",
        "import matplotlib.pyplot as plt\n",
        "\n",
        "nltk.download('stopwords')\n",
        "\n",
        "device = torch.device(\"cuda:0\" if torch.cuda.is_available() else \"cpu\")"
      ]
    },
    {
      "cell_type": "code",
      "execution_count": 161,
      "metadata": {
        "id": "jFkWKMQ-mnMh"
      },
      "outputs": [],
      "source": [
        "with open(\"drive/MyDrive/ITcup/ranking_train.jsonl\", \"r\") as f:\n",
        "    data = [json.loads(line) for line in f]"
      ]
    },
    {
      "cell_type": "code",
      "execution_count": 162,
      "metadata": {
        "id": "gA-7e_kBuqjs"
      },
      "outputs": [],
      "source": [
        "data=data[:1000]"
      ]
    },
    {
      "cell_type": "code",
      "execution_count": 163,
      "metadata": {
        "id": "fq4q-YPA_XmN"
      },
      "outputs": [],
      "source": [
        "stop_words = stopwords.words('english')\n",
        "for i in range(len(stop_words)):\n",
        "  stop_words[i] = \"\".join([char for char in stop_words[i] if char not in \"'\"])\n",
        "\n",
        "porter = PorterStemmer()"
      ]
    },
    {
      "cell_type": "code",
      "execution_count": 164,
      "metadata": {
        "colab": {
          "base_uri": "https://localhost:8080/"
        },
        "id": "x3YHkRwJmw5R",
        "outputId": "d1da1261-1e34-4f5b-c47d-b30aba5189fb"
      },
      "outputs": [
        {
          "output_type": "stream",
          "name": "stderr",
          "text": [
            "[nltk_data] Downloading package punkt to /root/nltk_data...\n",
            "[nltk_data]   Package punkt is already up-to-date!\n"
          ]
        }
      ],
      "source": [
        "nltk.download('punkt')\n",
        "logging.set_verbosity_error()"
      ]
    },
    {
      "cell_type": "code",
      "execution_count": 207,
      "metadata": {
        "id": "vtYvRivE9pHB",
        "colab": {
          "base_uri": "https://localhost:8080/",
          "height": 244
        },
        "outputId": "7bdc4ef1-8c2b-492a-c894-65ef010e13df"
      },
      "outputs": [
        {
          "output_type": "error",
          "ename": "ZeroDivisionError",
          "evalue": "ignored",
          "traceback": [
            "\u001b[0;31m---------------------------------------------------------------------------\u001b[0m",
            "\u001b[0;31mZeroDivisionError\u001b[0m                         Traceback (most recent call last)",
            "\u001b[0;32m<ipython-input-207-b8cb8e409dae>\u001b[0m in \u001b[0;36m<module>\u001b[0;34m\u001b[0m\n\u001b[1;32m     17\u001b[0m   \u001b[0;32mfor\u001b[0m \u001b[0mj\u001b[0m \u001b[0;32min\u001b[0m \u001b[0mrange\u001b[0m\u001b[0;34m(\u001b[0m\u001b[0mlen\u001b[0m\u001b[0;34m(\u001b[0m\u001b[0mdata\u001b[0m\u001b[0;34m[\u001b[0m\u001b[0mi\u001b[0m\u001b[0;34m]\u001b[0m\u001b[0;34m[\u001b[0m\u001b[0;34m'comments'\u001b[0m\u001b[0;34m]\u001b[0m\u001b[0;34m)\u001b[0m\u001b[0;34m)\u001b[0m\u001b[0;34m:\u001b[0m\u001b[0;34m\u001b[0m\u001b[0;34m\u001b[0m\u001b[0m\n\u001b[1;32m     18\u001b[0m     \u001b[0mtmp_length\u001b[0m \u001b[0;34m=\u001b[0m \u001b[0mlen\u001b[0m\u001b[0;34m(\u001b[0m\u001b[0mdata\u001b[0m\u001b[0;34m[\u001b[0m\u001b[0mi\u001b[0m\u001b[0;34m]\u001b[0m\u001b[0;34m[\u001b[0m\u001b[0;34m'comments'\u001b[0m\u001b[0;34m]\u001b[0m\u001b[0;34m[\u001b[0m\u001b[0mj\u001b[0m\u001b[0;34m]\u001b[0m\u001b[0;34m[\u001b[0m\u001b[0;34m'text'\u001b[0m\u001b[0;34m]\u001b[0m\u001b[0;34m)\u001b[0m\u001b[0;34m/\u001b[0m\u001b[0mavg_com_len\u001b[0m\u001b[0;34m\u001b[0m\u001b[0;34m\u001b[0m\u001b[0m\n\u001b[0;32m---> 19\u001b[0;31m     \u001b[0mtmp_exclamation\u001b[0m \u001b[0;34m=\u001b[0m \u001b[0mdata\u001b[0m\u001b[0;34m[\u001b[0m\u001b[0mi\u001b[0m\u001b[0;34m]\u001b[0m\u001b[0;34m[\u001b[0m\u001b[0;34m'comments'\u001b[0m\u001b[0;34m]\u001b[0m\u001b[0;34m[\u001b[0m\u001b[0mj\u001b[0m\u001b[0;34m]\u001b[0m\u001b[0;34m[\u001b[0m\u001b[0;34m'text'\u001b[0m\u001b[0;34m]\u001b[0m\u001b[0;34m.\u001b[0m\u001b[0mcount\u001b[0m\u001b[0;34m(\u001b[0m\u001b[0;34m\"!\"\u001b[0m\u001b[0;34m)\u001b[0m\u001b[0;34m/\u001b[0m\u001b[0mtmp_length\u001b[0m\u001b[0;34m\u001b[0m\u001b[0;34m\u001b[0m\u001b[0m\n\u001b[0m\u001b[1;32m     20\u001b[0m     \u001b[0mtmp_question\u001b[0m \u001b[0;34m=\u001b[0m \u001b[0mdata\u001b[0m\u001b[0;34m[\u001b[0m\u001b[0mi\u001b[0m\u001b[0;34m]\u001b[0m\u001b[0;34m[\u001b[0m\u001b[0;34m'comments'\u001b[0m\u001b[0;34m]\u001b[0m\u001b[0;34m[\u001b[0m\u001b[0mj\u001b[0m\u001b[0;34m]\u001b[0m\u001b[0;34m[\u001b[0m\u001b[0;34m'text'\u001b[0m\u001b[0;34m]\u001b[0m\u001b[0;34m.\u001b[0m\u001b[0mcount\u001b[0m\u001b[0;34m(\u001b[0m\u001b[0;34m\"?\"\u001b[0m\u001b[0;34m)\u001b[0m\u001b[0;34m/\u001b[0m\u001b[0mtmp_length\u001b[0m\u001b[0;34m\u001b[0m\u001b[0;34m\u001b[0m\u001b[0m\n\u001b[1;32m     21\u001b[0m     \u001b[0;32mif\u001b[0m \u001b[0;34m(\u001b[0m\u001b[0;34m\"http\"\u001b[0m \u001b[0;32mor\u001b[0m \u001b[0;34m\"www\"\u001b[0m\u001b[0;34m)\u001b[0m \u001b[0;32min\u001b[0m \u001b[0mdata\u001b[0m\u001b[0;34m[\u001b[0m\u001b[0mi\u001b[0m\u001b[0;34m]\u001b[0m\u001b[0;34m[\u001b[0m\u001b[0;34m'comments'\u001b[0m\u001b[0;34m]\u001b[0m\u001b[0;34m[\u001b[0m\u001b[0mj\u001b[0m\u001b[0;34m]\u001b[0m\u001b[0;34m[\u001b[0m\u001b[0;34m'text'\u001b[0m\u001b[0;34m]\u001b[0m\u001b[0;34m:\u001b[0m\u001b[0;34m\u001b[0m\u001b[0;34m\u001b[0m\u001b[0m\n",
            "\u001b[0;31mZeroDivisionError\u001b[0m: float division by zero"
          ]
        }
      ],
      "source": [
        "scores   = []\n",
        "for i in range(len(data)):\n",
        "  for j in range(len(data[i]['comments'])):\n",
        "    scores.append(data[i]['comments'][j]['score'])\n",
        "\n",
        "exclamations = []\n",
        "questions = []\n",
        "links = []\n",
        "lengths = []\n",
        "for i in range(len(data)):\n",
        "  avg_com_len=0\n",
        "  for j in range(len(data[i]['comments'])):\n",
        "    avg_com_len += len(data[i]['comments'][j]['text'])\n",
        "  avg_com_len/=5\n",
        "  tmp_link = 0\n",
        "  tmp_length = 0\n",
        "  for j in range(len(data[i]['comments'])):\n",
        "    tmp_length = len(data[i]['comments'][j]['text'])/avg_com_len\n",
        "    tmp_exclamation = data[i]['comments'][j]['text'].count(\"!\")#/tmp_length\n",
        "    tmp_question = data[i]['comments'][j]['text'].count(\"?\")#/tmp_length\n",
        "    if (\"http\" or \"www\") in data[i]['comments'][j]['text']:\n",
        "      tmp_link += 1\n",
        "\n",
        "    exclamations.append(tmp_exclamation)\n",
        "    questions.append(tmp_question)\n",
        "    links.append(tmp_link)\n",
        "    lengths.append(tmp_length)"
      ]
    },
    {
      "cell_type": "code",
      "execution_count": 166,
      "metadata": {
        "id": "-pg7Orp0MlJM"
      },
      "outputs": [],
      "source": [
        "import pandas as pd\n",
        "df = pd.DataFrame(list(zip(scores[:5000], exclamations, questions, links, lengths)), columns =['Score', '!', '?', 'Has Links', 'Length / Avg len in post'])"
      ]
    },
    {
      "cell_type": "code",
      "execution_count": 167,
      "metadata": {
        "id": "XCJsYLQHSYBf",
        "colab": {
          "base_uri": "https://localhost:8080/",
          "height": 206
        },
        "outputId": "a7fd3290-7406-40b0-e84e-45f91c32659e"
      },
      "outputs": [
        {
          "output_type": "execute_result",
          "data": {
            "text/plain": [
              "<pandas.io.formats.style.Styler at 0x7f63ffa583d0>"
            ],
            "text/html": [
              "<style type=\"text/css\">\n",
              "#T_2178a_row0_col0, #T_2178a_row1_col1, #T_2178a_row2_col2, #T_2178a_row3_col3, #T_2178a_row4_col4 {\n",
              "  background-color: #b40426;\n",
              "  color: #f1f1f1;\n",
              "}\n",
              "#T_2178a_row0_col1, #T_2178a_row0_col2, #T_2178a_row0_col4, #T_2178a_row4_col0, #T_2178a_row4_col3 {\n",
              "  background-color: #3b4cc0;\n",
              "  color: #f1f1f1;\n",
              "}\n",
              "#T_2178a_row0_col3 {\n",
              "  background-color: #b2ccfb;\n",
              "  color: #000000;\n",
              "}\n",
              "#T_2178a_row1_col0 {\n",
              "  background-color: #94b6ff;\n",
              "  color: #000000;\n",
              "}\n",
              "#T_2178a_row1_col2 {\n",
              "  background-color: #7b9ff9;\n",
              "  color: #f1f1f1;\n",
              "}\n",
              "#T_2178a_row1_col3, #T_2178a_row2_col3 {\n",
              "  background-color: #5572df;\n",
              "  color: #f1f1f1;\n",
              "}\n",
              "#T_2178a_row1_col4 {\n",
              "  background-color: #bbd1f8;\n",
              "  color: #000000;\n",
              "}\n",
              "#T_2178a_row2_col0 {\n",
              "  background-color: #8caffe;\n",
              "  color: #000000;\n",
              "}\n",
              "#T_2178a_row2_col1 {\n",
              "  background-color: #7396f5;\n",
              "  color: #f1f1f1;\n",
              "}\n",
              "#T_2178a_row2_col4 {\n",
              "  background-color: #cedaeb;\n",
              "  color: #000000;\n",
              "}\n",
              "#T_2178a_row3_col0 {\n",
              "  background-color: #dcdddd;\n",
              "  color: #000000;\n",
              "}\n",
              "#T_2178a_row3_col1 {\n",
              "  background-color: #4257c9;\n",
              "  color: #f1f1f1;\n",
              "}\n",
              "#T_2178a_row3_col2 {\n",
              "  background-color: #4a63d3;\n",
              "  color: #f1f1f1;\n",
              "}\n",
              "#T_2178a_row3_col4 {\n",
              "  background-color: #82a6fb;\n",
              "  color: #f1f1f1;\n",
              "}\n",
              "#T_2178a_row4_col1 {\n",
              "  background-color: #6c8ff1;\n",
              "  color: #f1f1f1;\n",
              "}\n",
              "#T_2178a_row4_col2 {\n",
              "  background-color: #92b4fe;\n",
              "  color: #000000;\n",
              "}\n",
              "</style>\n",
              "<table id=\"T_2178a\" class=\"dataframe\">\n",
              "  <thead>\n",
              "    <tr>\n",
              "      <th class=\"blank level0\" >&nbsp;</th>\n",
              "      <th id=\"T_2178a_level0_col0\" class=\"col_heading level0 col0\" >Score</th>\n",
              "      <th id=\"T_2178a_level0_col1\" class=\"col_heading level0 col1\" >!</th>\n",
              "      <th id=\"T_2178a_level0_col2\" class=\"col_heading level0 col2\" >?</th>\n",
              "      <th id=\"T_2178a_level0_col3\" class=\"col_heading level0 col3\" >Has Links</th>\n",
              "      <th id=\"T_2178a_level0_col4\" class=\"col_heading level0 col4\" >Length</th>\n",
              "    </tr>\n",
              "  </thead>\n",
              "  <tbody>\n",
              "    <tr>\n",
              "      <th id=\"T_2178a_level0_row0\" class=\"row_heading level0 row0\" >Score</th>\n",
              "      <td id=\"T_2178a_row0_col0\" class=\"data row0 col0\" >1.000000</td>\n",
              "      <td id=\"T_2178a_row0_col1\" class=\"data row0 col1\" >-0.046498</td>\n",
              "      <td id=\"T_2178a_row0_col2\" class=\"data row0 col2\" >-0.075514</td>\n",
              "      <td id=\"T_2178a_row0_col3\" class=\"data row0 col3\" >0.281478</td>\n",
              "      <td id=\"T_2178a_row0_col4\" class=\"data row0 col4\" >-0.433200</td>\n",
              "    </tr>\n",
              "    <tr>\n",
              "      <th id=\"T_2178a_level0_row1\" class=\"row_heading level0 row1\" >!</th>\n",
              "      <td id=\"T_2178a_row1_col0\" class=\"data row1 col0\" >-0.046498</td>\n",
              "      <td id=\"T_2178a_row1_col1\" class=\"data row1 col1\" >1.000000</td>\n",
              "      <td id=\"T_2178a_row1_col2\" class=\"data row1 col2\" >0.139172</td>\n",
              "      <td id=\"T_2178a_row1_col3\" class=\"data row1 col3\" >-0.020778</td>\n",
              "      <td id=\"T_2178a_row1_col4\" class=\"data row1 col4\" >0.118079</td>\n",
              "    </tr>\n",
              "    <tr>\n",
              "      <th id=\"T_2178a_level0_row2\" class=\"row_heading level0 row2\" >?</th>\n",
              "      <td id=\"T_2178a_row2_col0\" class=\"data row2 col0\" >-0.075514</td>\n",
              "      <td id=\"T_2178a_row2_col1\" class=\"data row2 col1\" >0.139172</td>\n",
              "      <td id=\"T_2178a_row2_col2\" class=\"data row2 col2\" >1.000000</td>\n",
              "      <td id=\"T_2178a_row2_col3\" class=\"data row2 col3\" >-0.019201</td>\n",
              "      <td id=\"T_2178a_row2_col4\" class=\"data row2 col4\" >0.208652</td>\n",
              "    </tr>\n",
              "    <tr>\n",
              "      <th id=\"T_2178a_level0_row3\" class=\"row_heading level0 row3\" >Has Links</th>\n",
              "      <td id=\"T_2178a_row3_col0\" class=\"data row3 col0\" >0.281478</td>\n",
              "      <td id=\"T_2178a_row3_col1\" class=\"data row3 col1\" >-0.020778</td>\n",
              "      <td id=\"T_2178a_row3_col2\" class=\"data row3 col2\" >-0.019201</td>\n",
              "      <td id=\"T_2178a_row3_col3\" class=\"data row3 col3\" >1.000000</td>\n",
              "      <td id=\"T_2178a_row3_col4\" class=\"data row3 col4\" >-0.117209</td>\n",
              "    </tr>\n",
              "    <tr>\n",
              "      <th id=\"T_2178a_level0_row4\" class=\"row_heading level0 row4\" >Length</th>\n",
              "      <td id=\"T_2178a_row4_col0\" class=\"data row4 col0\" >-0.433200</td>\n",
              "      <td id=\"T_2178a_row4_col1\" class=\"data row4 col1\" >0.118079</td>\n",
              "      <td id=\"T_2178a_row4_col2\" class=\"data row4 col2\" >0.208652</td>\n",
              "      <td id=\"T_2178a_row4_col3\" class=\"data row4 col3\" >-0.117209</td>\n",
              "      <td id=\"T_2178a_row4_col4\" class=\"data row4 col4\" >1.000000</td>\n",
              "    </tr>\n",
              "  </tbody>\n",
              "</table>\n"
            ]
          },
          "metadata": {},
          "execution_count": 167
        }
      ],
      "source": [
        "corr = df.corr()\n",
        "corr.style.background_gradient(cmap='coolwarm')"
      ]
    },
    {
      "cell_type": "code",
      "execution_count": 168,
      "metadata": {
        "id": "WxB82ZXH4-od"
      },
      "outputs": [],
      "source": [
        "for datum in data:\n",
        "  datum['text'] = datum['text'].lower()\n",
        "  datum['text'] = \"\".join([char for char in datum['text'] if char not in string.punctuation])\n",
        "  datum['text'] = word_tokenize(datum['text'])\n",
        "  datum['text'] = [word for word in datum['text'] if word not in stop_words]\n",
        "  #datum['text'] = [porter.stem(word) for word in datum['text']]\n",
        "  #datum['text'] = ' '.join(datum['text'])\n",
        "  for comment in datum['comments']:\n",
        "    comment['text'] = comment['text'].lower()\n",
        "    comment['text'] = \"\".join([char for char in comment['text'] if char not in string.punctuation])\n",
        "    comment['text'] = word_tokenize(comment['text'])\n",
        "    comment['text'] = [word for word in comment['text'] if word not in stop_words]\n",
        "    #comment['text'] = [porter.stem(word) for word in comment['text']]\n",
        "    #comment['text'] = ' '.join(comment['text'])"
      ]
    },
    {
      "cell_type": "code",
      "execution_count": 169,
      "metadata": {
        "id": "w_mn-CKBm4ES"
      },
      "outputs": [],
      "source": [
        "texts = []\n",
        "comments = []\n",
        "\n",
        "for i in range(len(data)):\n",
        "  texts.append(data[i]['text'])\n",
        "  for j in range(len(data[i]['comments'])):\n",
        "    comments.append(data[i]['comments'][j]['text'])"
      ]
    },
    {
      "cell_type": "code",
      "execution_count": 170,
      "metadata": {
        "id": "pNySHN8CJoGF"
      },
      "outputs": [],
      "source": [
        "from gensim.models import Word2Vec\n",
        "import gensim.downloader as api\n",
        "model = api.load(\"glove-wiki-gigaword-100\")"
      ]
    },
    {
      "cell_type": "code",
      "execution_count": 171,
      "metadata": {
        "id": "OqAy7F5j-pC9"
      },
      "outputs": [],
      "source": [
        "similarity=[]\n",
        "\n",
        "sentences=comments[0:5]\n",
        "target_sentence=texts[0]\n",
        "\n",
        "for i in range(len(texts)):\n",
        "  sentences_similarity = np.zeros(len(sentences))\n",
        "  w2v_vocab = model.vocab.keys()\n",
        "  sentences=comments[5*i:5+5*i]\n",
        "  target_sentence=texts[i]\n",
        "  for idx, sentence in enumerate(sentences):\n",
        "    sentence_words = [w for w in sentence if w in w2v_vocab]\n",
        "    if (len(sentence_words) == 0):\n",
        "      sentence_words=['fortune']\n",
        "    target_sentence_words = [w for w in target_sentence if w in w2v_vocab]\n",
        "    if (len(target_sentence_words) == 0):\n",
        "      target_sentence_words=['fortune']\n",
        "    sim = model.n_similarity(target_sentence_words, sentence_words)\n",
        "    sentences_similarity[idx] = sim\n",
        "\n",
        "  result = list(zip(sentences_similarity))\n",
        "  for i in range(5):\n",
        "    similarity+=result[i]"
      ]
    },
    {
      "cell_type": "markdown",
      "source": [
        "**Корреляция между скором и длиной, а также между скором и наличием ссылок в комментарии более значимые, чем прочие**"
      ],
      "metadata": {
        "id": "CmdxYMXrwHua"
      }
    },
    {
      "cell_type": "code",
      "source": [
        "df['Similarity'] = similarity\n",
        "corr = df.corr()\n",
        "corr.style.background_gradient(cmap='coolwarm')"
      ],
      "metadata": {
        "colab": {
          "base_uri": "https://localhost:8080/",
          "height": 237
        },
        "id": "pUbCPgi6kvWJ",
        "outputId": "c6f002e4-ada4-4edb-e5fc-9729482ce38d"
      },
      "execution_count": 172,
      "outputs": [
        {
          "output_type": "execute_result",
          "data": {
            "text/plain": [
              "<pandas.io.formats.style.Styler at 0x7f63ff95ef10>"
            ],
            "text/html": [
              "<style type=\"text/css\">\n",
              "#T_82090_row0_col0, #T_82090_row1_col1, #T_82090_row2_col2, #T_82090_row3_col3, #T_82090_row4_col4, #T_82090_row5_col5 {\n",
              "  background-color: #b40426;\n",
              "  color: #f1f1f1;\n",
              "}\n",
              "#T_82090_row0_col1, #T_82090_row0_col2, #T_82090_row0_col4, #T_82090_row0_col5, #T_82090_row4_col0, #T_82090_row4_col3 {\n",
              "  background-color: #3b4cc0;\n",
              "  color: #f1f1f1;\n",
              "}\n",
              "#T_82090_row0_col3 {\n",
              "  background-color: #b2ccfb;\n",
              "  color: #000000;\n",
              "}\n",
              "#T_82090_row1_col0 {\n",
              "  background-color: #94b6ff;\n",
              "  color: #000000;\n",
              "}\n",
              "#T_82090_row1_col2 {\n",
              "  background-color: #7b9ff9;\n",
              "  color: #f1f1f1;\n",
              "}\n",
              "#T_82090_row1_col3, #T_82090_row2_col3 {\n",
              "  background-color: #5572df;\n",
              "  color: #f1f1f1;\n",
              "}\n",
              "#T_82090_row1_col4 {\n",
              "  background-color: #bbd1f8;\n",
              "  color: #000000;\n",
              "}\n",
              "#T_82090_row1_col5 {\n",
              "  background-color: #536edd;\n",
              "  color: #f1f1f1;\n",
              "}\n",
              "#T_82090_row2_col0 {\n",
              "  background-color: #8caffe;\n",
              "  color: #000000;\n",
              "}\n",
              "#T_82090_row2_col1 {\n",
              "  background-color: #7396f5;\n",
              "  color: #f1f1f1;\n",
              "}\n",
              "#T_82090_row2_col4 {\n",
              "  background-color: #cedaeb;\n",
              "  color: #000000;\n",
              "}\n",
              "#T_82090_row2_col5 {\n",
              "  background-color: #5d7ce6;\n",
              "  color: #f1f1f1;\n",
              "}\n",
              "#T_82090_row3_col0 {\n",
              "  background-color: #dcdddd;\n",
              "  color: #000000;\n",
              "}\n",
              "#T_82090_row3_col1, #T_82090_row3_col5 {\n",
              "  background-color: #4257c9;\n",
              "  color: #f1f1f1;\n",
              "}\n",
              "#T_82090_row3_col2 {\n",
              "  background-color: #4a63d3;\n",
              "  color: #f1f1f1;\n",
              "}\n",
              "#T_82090_row3_col4 {\n",
              "  background-color: #82a6fb;\n",
              "  color: #f1f1f1;\n",
              "}\n",
              "#T_82090_row4_col1 {\n",
              "  background-color: #6c8ff1;\n",
              "  color: #f1f1f1;\n",
              "}\n",
              "#T_82090_row4_col2 {\n",
              "  background-color: #92b4fe;\n",
              "  color: #000000;\n",
              "}\n",
              "#T_82090_row4_col5 {\n",
              "  background-color: #88abfd;\n",
              "  color: #000000;\n",
              "}\n",
              "#T_82090_row5_col0 {\n",
              "  background-color: #89acfd;\n",
              "  color: #000000;\n",
              "}\n",
              "#T_82090_row5_col1 {\n",
              "  background-color: #465ecf;\n",
              "  color: #f1f1f1;\n",
              "}\n",
              "#T_82090_row5_col2 {\n",
              "  background-color: #5875e1;\n",
              "  color: #f1f1f1;\n",
              "}\n",
              "#T_82090_row5_col3 {\n",
              "  background-color: #4961d2;\n",
              "  color: #f1f1f1;\n",
              "}\n",
              "#T_82090_row5_col4 {\n",
              "  background-color: #c6d6f1;\n",
              "  color: #000000;\n",
              "}\n",
              "</style>\n",
              "<table id=\"T_82090\" class=\"dataframe\">\n",
              "  <thead>\n",
              "    <tr>\n",
              "      <th class=\"blank level0\" >&nbsp;</th>\n",
              "      <th id=\"T_82090_level0_col0\" class=\"col_heading level0 col0\" >Score</th>\n",
              "      <th id=\"T_82090_level0_col1\" class=\"col_heading level0 col1\" >!</th>\n",
              "      <th id=\"T_82090_level0_col2\" class=\"col_heading level0 col2\" >?</th>\n",
              "      <th id=\"T_82090_level0_col3\" class=\"col_heading level0 col3\" >Has Links</th>\n",
              "      <th id=\"T_82090_level0_col4\" class=\"col_heading level0 col4\" >Length</th>\n",
              "      <th id=\"T_82090_level0_col5\" class=\"col_heading level0 col5\" >Similarity</th>\n",
              "    </tr>\n",
              "  </thead>\n",
              "  <tbody>\n",
              "    <tr>\n",
              "      <th id=\"T_82090_level0_row0\" class=\"row_heading level0 row0\" >Score</th>\n",
              "      <td id=\"T_82090_row0_col0\" class=\"data row0 col0\" >1.000000</td>\n",
              "      <td id=\"T_82090_row0_col1\" class=\"data row0 col1\" >-0.046498</td>\n",
              "      <td id=\"T_82090_row0_col2\" class=\"data row0 col2\" >-0.075514</td>\n",
              "      <td id=\"T_82090_row0_col3\" class=\"data row0 col3\" >0.281478</td>\n",
              "      <td id=\"T_82090_row0_col4\" class=\"data row0 col4\" >-0.433200</td>\n",
              "      <td id=\"T_82090_row0_col5\" class=\"data row0 col5\" >-0.090561</td>\n",
              "    </tr>\n",
              "    <tr>\n",
              "      <th id=\"T_82090_level0_row1\" class=\"row_heading level0 row1\" >!</th>\n",
              "      <td id=\"T_82090_row1_col0\" class=\"data row1 col0\" >-0.046498</td>\n",
              "      <td id=\"T_82090_row1_col1\" class=\"data row1 col1\" >1.000000</td>\n",
              "      <td id=\"T_82090_row1_col2\" class=\"data row1 col2\" >0.139172</td>\n",
              "      <td id=\"T_82090_row1_col3\" class=\"data row1 col3\" >-0.020778</td>\n",
              "      <td id=\"T_82090_row1_col4\" class=\"data row1 col4\" >0.118079</td>\n",
              "      <td id=\"T_82090_row1_col5\" class=\"data row1 col5\" >-0.004997</td>\n",
              "    </tr>\n",
              "    <tr>\n",
              "      <th id=\"T_82090_level0_row2\" class=\"row_heading level0 row2\" >?</th>\n",
              "      <td id=\"T_82090_row2_col0\" class=\"data row2 col0\" >-0.075514</td>\n",
              "      <td id=\"T_82090_row2_col1\" class=\"data row2 col1\" >0.139172</td>\n",
              "      <td id=\"T_82090_row2_col2\" class=\"data row2 col2\" >1.000000</td>\n",
              "      <td id=\"T_82090_row2_col3\" class=\"data row2 col3\" >-0.019201</td>\n",
              "      <td id=\"T_82090_row2_col4\" class=\"data row2 col4\" >0.208652</td>\n",
              "      <td id=\"T_82090_row2_col5\" class=\"data row2 col5\" >0.029139</td>\n",
              "    </tr>\n",
              "    <tr>\n",
              "      <th id=\"T_82090_level0_row3\" class=\"row_heading level0 row3\" >Has Links</th>\n",
              "      <td id=\"T_82090_row3_col0\" class=\"data row3 col0\" >0.281478</td>\n",
              "      <td id=\"T_82090_row3_col1\" class=\"data row3 col1\" >-0.020778</td>\n",
              "      <td id=\"T_82090_row3_col2\" class=\"data row3 col2\" >-0.019201</td>\n",
              "      <td id=\"T_82090_row3_col3\" class=\"data row3 col3\" >1.000000</td>\n",
              "      <td id=\"T_82090_row3_col4\" class=\"data row3 col4\" >-0.117209</td>\n",
              "      <td id=\"T_82090_row3_col5\" class=\"data row3 col5\" >-0.062589</td>\n",
              "    </tr>\n",
              "    <tr>\n",
              "      <th id=\"T_82090_level0_row4\" class=\"row_heading level0 row4\" >Length</th>\n",
              "      <td id=\"T_82090_row4_col0\" class=\"data row4 col0\" >-0.433200</td>\n",
              "      <td id=\"T_82090_row4_col1\" class=\"data row4 col1\" >0.118079</td>\n",
              "      <td id=\"T_82090_row4_col2\" class=\"data row4 col2\" >0.208652</td>\n",
              "      <td id=\"T_82090_row4_col3\" class=\"data row4 col3\" >-0.117209</td>\n",
              "      <td id=\"T_82090_row4_col4\" class=\"data row4 col4\" >1.000000</td>\n",
              "      <td id=\"T_82090_row4_col5\" class=\"data row4 col5\" >0.167008</td>\n",
              "    </tr>\n",
              "    <tr>\n",
              "      <th id=\"T_82090_level0_row5\" class=\"row_heading level0 row5\" >Similarity</th>\n",
              "      <td id=\"T_82090_row5_col0\" class=\"data row5 col0\" >-0.090561</td>\n",
              "      <td id=\"T_82090_row5_col1\" class=\"data row5 col1\" >-0.004997</td>\n",
              "      <td id=\"T_82090_row5_col2\" class=\"data row5 col2\" >0.029139</td>\n",
              "      <td id=\"T_82090_row5_col3\" class=\"data row5 col3\" >-0.062589</td>\n",
              "      <td id=\"T_82090_row5_col4\" class=\"data row5 col4\" >0.167008</td>\n",
              "      <td id=\"T_82090_row5_col5\" class=\"data row5 col5\" >1.000000</td>\n",
              "    </tr>\n",
              "  </tbody>\n",
              "</table>\n"
            ]
          },
          "metadata": {},
          "execution_count": 172
        }
      ]
    },
    {
      "cell_type": "code",
      "source": [
        "import os\n",
        "import torch\n",
        "from torch import nn\n",
        "from torch.utils.data import DataLoader\n",
        "from torchvision import datasets, transforms"
      ],
      "metadata": {
        "id": "DSL0-oihdgVy"
      },
      "execution_count": 173,
      "outputs": []
    },
    {
      "cell_type": "code",
      "execution_count": 174,
      "metadata": {
        "id": "yQ4lhWwZLNfe"
      },
      "outputs": [],
      "source": [
        "class NeuralNetwork(nn.Module):\n",
        "    def __init__(self):\n",
        "        super().__init__()\n",
        "        self.linear_relu_stack = nn.Sequential(\n",
        "            nn.Linear(128, 64),\n",
        "            nn.LeakyReLU(0.01),\n",
        "            nn.Dropout(0.1),\n",
        "            nn.Linear(64,32),\n",
        "            nn.LeakyReLU(0.01),\n",
        "            nn.Dropout(0.1),\n",
        "            nn.Linear(32,16),\n",
        "            nn.LeakyReLU(0.01),\n",
        "            nn.Dropout(0.1),\n",
        "            nn.Linear(16,5)\n",
        "        )\n",
        "\n",
        "    def forward(self, x):\n",
        "        logits = self.linear_relu_stack(x)\n",
        "        return logits"
      ]
    },
    {
      "cell_type": "code",
      "source": [
        "model = api.load(\"glove-wiki-gigaword-100\")\n",
        "w2v_vocab = model.vocab.keys()"
      ],
      "metadata": {
        "id": "6r_fEZK2fwW5"
      },
      "execution_count": 175,
      "outputs": []
    },
    {
      "cell_type": "code",
      "source": [
        "comms=[]\n",
        "for i in range(len(comments)):\n",
        "  if (comments[i] and comments[i][0] in w2v_vocab):\n",
        "    cur = model.wv.get_vector(comments[i][0])\n",
        "    for j in range(1, len(comments[i])):\n",
        "      if (comments[i][j] and comments[i][j] in w2v_vocab):\n",
        "        cur = np.sum([cur, model.wv.get_vector(comments[i][j])], axis = 0)\n",
        "  comms.append(cur/(len(comments[i])))"
      ],
      "metadata": {
        "id": "_43TQacNtE9q",
        "colab": {
          "base_uri": "https://localhost:8080/"
        },
        "outputId": "1c4c7331-642b-4889-886c-38591a712252"
      },
      "execution_count": 176,
      "outputs": [
        {
          "output_type": "stream",
          "name": "stderr",
          "text": [
            "<ipython-input-176-b371fe04192b>:4: DeprecationWarning: Call to deprecated `wv` (Attribute will be removed in 4.0.0, use self instead).\n",
            "  cur = model.wv.get_vector(comments[i][0])\n",
            "<ipython-input-176-b371fe04192b>:7: DeprecationWarning: Call to deprecated `wv` (Attribute will be removed in 4.0.0, use self instead).\n",
            "  cur = np.sum([cur, model.wv.get_vector(comments[i][j])], axis = 0)\n",
            "<ipython-input-176-b371fe04192b>:8: RuntimeWarning: divide by zero encountered in true_divide\n",
            "  comms.append(cur/(len(comments[i])))\n"
          ]
        }
      ]
    },
    {
      "cell_type": "code",
      "source": [
        "posts=[]\n",
        "for i in range(len(texts)):\n",
        "  if (texts[i] and texts[i][0] in w2v_vocab):\n",
        "    cur = model.wv.get_vector(texts[i][0])\n",
        "    for j in range(1, len(texts[i])):\n",
        "      if (texts[i][j] and texts[i][j] in w2v_vocab):\n",
        "        cur = np.sum([cur, model.wv.get_vector(texts[i][j])], axis = 0)\n",
        "  posts.append(cur/(len(texts[i])))"
      ],
      "metadata": {
        "id": "sczZHjTYvjlo",
        "colab": {
          "base_uri": "https://localhost:8080/"
        },
        "outputId": "bfcc9ec0-ea68-4e53-ed6f-e775f5d352f6"
      },
      "execution_count": 177,
      "outputs": [
        {
          "output_type": "stream",
          "name": "stderr",
          "text": [
            "<ipython-input-177-dbd57cddccf5>:4: DeprecationWarning: Call to deprecated `wv` (Attribute will be removed in 4.0.0, use self instead).\n",
            "  cur = model.wv.get_vector(texts[i][0])\n",
            "<ipython-input-177-dbd57cddccf5>:7: DeprecationWarning: Call to deprecated `wv` (Attribute will be removed in 4.0.0, use self instead).\n",
            "  cur = np.sum([cur, model.wv.get_vector(texts[i][j])], axis = 0)\n"
          ]
        }
      ]
    },
    {
      "cell_type": "code",
      "source": [
        "expected = [\n",
        "([1,0,0,0,0],\n",
        "[0,1,0,0,0],\n",
        "[0,0,1,0,0],\n",
        "[0,0,0,1,0],\n",
        "[0,0,0,0,1],)*(int(len(comms)/5)+5)\n",
        "]\n",
        "expected[0] = expected[0][:len(comms)]"
      ],
      "metadata": {
        "id": "B7NBu0sQ2O08"
      },
      "execution_count": 178,
      "outputs": []
    },
    {
      "cell_type": "code",
      "source": [
        "import torch\n",
        "import torch.nn as nn\n",
        "import torch.optim as optim"
      ],
      "metadata": {
        "id": "fPcsJMTq_1AW"
      },
      "execution_count": 179,
      "outputs": []
    },
    {
      "cell_type": "code",
      "source": [
        "device = torch.device(\"cuda:0\" if torch.cuda.is_available() else \"cpu\")\n",
        "print(device)"
      ],
      "metadata": {
        "colab": {
          "base_uri": "https://localhost:8080/"
        },
        "id": "h4klWpYUG9Mu",
        "outputId": "a1df07a3-6004-4305-83d6-dac213a6bce0"
      },
      "execution_count": 180,
      "outputs": [
        {
          "output_type": "stream",
          "name": "stdout",
          "text": [
            "cuda:0\n"
          ]
        }
      ]
    },
    {
      "cell_type": "code",
      "source": [
        "!pip install tqdm\n",
        "from tqdm import tqdm"
      ],
      "metadata": {
        "colab": {
          "base_uri": "https://localhost:8080/"
        },
        "id": "F_13oVFMH7RQ",
        "outputId": "6a2c0bbf-a055-472e-dd92-82e6e546626e"
      },
      "execution_count": 181,
      "outputs": [
        {
          "output_type": "stream",
          "name": "stdout",
          "text": [
            "Looking in indexes: https://pypi.org/simple, https://us-python.pkg.dev/colab-wheels/public/simple/\n",
            "Requirement already satisfied: tqdm in /usr/local/lib/python3.9/dist-packages (4.65.0)\n"
          ]
        }
      ]
    },
    {
      "cell_type": "code",
      "source": [
        "loss_fn = nn.CrossEntropyLoss()\n",
        "\n",
        "model = NeuralNetwork()\n",
        "optimizer = optim.SGD(model.parameters(), lr=0.01)\n",
        "\n",
        "for epoch in range(5):\n",
        "  for i in tqdm(range(len(expected[0]))):\n",
        "    outputs = model.forward(torch.FloatTensor(np.concatenate((comms[i], np.array([similarity[i]] * 28)))))\n",
        "    expected_flat = torch.FloatTensor(expected[0][i]).flatten()\n",
        "    loss = loss_fn(outputs, expected_flat)\n",
        "\n",
        "    optimizer.zero_grad()\n",
        "    loss.backward()\n",
        "    optimizer.step()\n",
        "    pass"
      ],
      "metadata": {
        "colab": {
          "base_uri": "https://localhost:8080/"
        },
        "id": "4rnRnmiY_hpe",
        "outputId": "0ae622da-68a2-4bd3-e856-bab4c90db89d"
      },
      "execution_count": 182,
      "outputs": [
        {
          "output_type": "stream",
          "name": "stderr",
          "text": [
            "100%|██████████| 5000/5000 [00:04<00:00, 1060.63it/s]\n",
            "100%|██████████| 5000/5000 [00:04<00:00, 1036.78it/s]\n",
            "100%|██████████| 5000/5000 [00:10<00:00, 454.95it/s]\n",
            "100%|██████████| 5000/5000 [00:11<00:00, 454.16it/s]\n",
            "100%|██████████| 5000/5000 [00:04<00:00, 1103.87it/s]\n"
          ]
        }
      ]
    },
    {
      "cell_type": "code",
      "source": [
        "for i in range(len(comms)):\n",
        "  outputs = model.forward(torch.FloatTensor(np.concatenate((comms[i], np.array([similarity[i]] * 28)))))\n",
        "  expected_flat = torch.FloatTensor(expected[0][i]).flatten()\n"
      ],
      "metadata": {
        "id": "u18X6ZIxJBtW"
      },
      "execution_count": 183,
      "outputs": []
    },
    {
      "cell_type": "code",
      "source": [
        "import random\n",
        "test = []\n",
        "for j in range(0,5):\n",
        "  randomlist = []\n",
        "  for i in range(0,5):\n",
        "    n = random.randint(0,100)\n",
        "    randomlist.append(n)\n",
        "  test.append(randomlist)\n",
        "test"
      ],
      "metadata": {
        "colab": {
          "base_uri": "https://localhost:8080/"
        },
        "id": "UhguwwDkcsUQ",
        "outputId": "81d62a8b-06bd-4f8c-98ee-8c85dabc7aeb"
      },
      "execution_count": 184,
      "outputs": [
        {
          "output_type": "execute_result",
          "data": {
            "text/plain": [
              "[[9, 56, 44, 43, 60],\n",
              " [71, 13, 83, 18, 88],\n",
              " [2, 68, 42, 72, 26],\n",
              " [60, 66, 12, 48, 44],\n",
              " [51, 53, 79, 49, 17]]"
            ]
          },
          "metadata": {},
          "execution_count": 184
        }
      ]
    },
    {
      "cell_type": "code",
      "source": [
        "scores_answer = []\n",
        "for j in range(5):\n",
        "    max_val = -1\n",
        "    max_idx = -1\n",
        "    for i in range(len(test)):\n",
        "        if test[i][j] > max_val and i not in scores_answer:\n",
        "            max_val = test[i][j]\n",
        "            max_idx = i\n",
        "    scores_answer.append(max_idx)\n",
        "scores_answer"
      ],
      "metadata": {
        "colab": {
          "base_uri": "https://localhost:8080/"
        },
        "id": "iST_bc3_dcO4",
        "outputId": "56850383-0fec-45d1-e78f-0b7540e0bb7a"
      },
      "execution_count": 185,
      "outputs": [
        {
          "output_type": "execute_result",
          "data": {
            "text/plain": [
              "[1, 2, 4, 3, 0]"
            ]
          },
          "metadata": {},
          "execution_count": 185
        }
      ]
    },
    {
      "cell_type": "markdown",
      "source": [
        "**Займёмся Тестовым Датасетом:**"
      ],
      "metadata": {
        "id": "YrZw0Gmip8fw"
      }
    },
    {
      "cell_type": "code",
      "source": [
        "with open(\"drive/MyDrive/ITcup/ranking_test.jsonl\", \"r\") as f:\n",
        "    test_data = [json.loads(line) for line in f]"
      ],
      "metadata": {
        "id": "A7mfYGK1p7oZ"
      },
      "execution_count": 198,
      "outputs": []
    },
    {
      "cell_type": "code",
      "source": [
        "test_data=test_data[:1000]"
      ],
      "metadata": {
        "id": "eUkUxfJyqSPR"
      },
      "execution_count": 202,
      "outputs": []
    },
    {
      "cell_type": "code",
      "source": [
        "stop_words = stopwords.words('english')\n",
        "for i in range(len(stop_words)):\n",
        "  stop_words[i] = \"\".join([char for char in stop_words[i] if char not in \"'\"])\n",
        "\n",
        "porter = PorterStemmer()"
      ],
      "metadata": {
        "id": "3La7WFrdqVlR"
      },
      "execution_count": 203,
      "outputs": []
    },
    {
      "cell_type": "code",
      "source": [
        "for datum in test_data:\n",
        "  datum['text'] = datum['text'].lower()\n",
        "  datum['text'] = \"\".join([char for char in datum['text'] if char not in string.punctuation])\n",
        "  datum['text'] = word_tokenize(datum['text'])\n",
        "  datum['text'] = [word for word in datum['text'] if word not in stop_words]\n",
        "  for comment in datum['comments']:\n",
        "    comment['text'] = comment['text'].lower()\n",
        "    comment['text'] = \"\".join([char for char in comment['text'] if char not in string.punctuation])\n",
        "    comment['text'] = word_tokenize(comment['text'])\n",
        "    comment['text'] = [word for word in comment['text'] if word not in stop_words]"
      ],
      "metadata": {
        "id": "9Ai9skikrd05"
      },
      "execution_count": 205,
      "outputs": []
    },
    {
      "cell_type": "code",
      "source": [
        "test_texts = []\n",
        "test_comments = []\n",
        "\n",
        "for i in range(len(test_data)):\n",
        "  texts.append(test_data[i]['text'])\n",
        "  for j in range(len(test_data[i]['comments'])):\n",
        "    comments.append(test_data[i]['comments'][j]['text'])"
      ],
      "metadata": {
        "id": "YHXOAsM5sq5T"
      },
      "execution_count": null,
      "outputs": []
    },
    {
      "cell_type": "code",
      "source": [
        "nltk.download('punkt')\n",
        "logging.set_verbosity_error()"
      ],
      "metadata": {
        "colab": {
          "base_uri": "https://localhost:8080/"
        },
        "id": "dXsQlISoqabH",
        "outputId": "561a5085-738b-4f6c-ddcd-831a3cb4d7bd"
      },
      "execution_count": 206,
      "outputs": [
        {
          "output_type": "stream",
          "name": "stderr",
          "text": [
            "[nltk_data] Downloading package punkt to /root/nltk_data...\n",
            "[nltk_data]   Package punkt is already up-to-date!\n"
          ]
        }
      ]
    },
    {
      "cell_type": "code",
      "source": [
        "test_scores = []\n",
        "for i in range(len(test_data)):\n",
        "  for j in range(len(test_data[i]['comments'])):\n",
        "    test_scores.append(test_data[i]['comments'][j]['score'])"
      ],
      "metadata": {
        "id": "er4HpmB-qiNe"
      },
      "execution_count": 196,
      "outputs": []
    },
    {
      "cell_type": "code",
      "source": [
        "model = api.load(\"glove-wiki-gigaword-100\")\n",
        "w2v_vocab = model.vocab.keys()"
      ],
      "metadata": {
        "id": "0Cb2B7xuqpJC"
      },
      "execution_count": 197,
      "outputs": []
    },
    {
      "cell_type": "code",
      "source": [
        "test_comms=[]\n",
        "for i in range(len(test_comments)):\n",
        "  if (test_comments[i] and test_comments[i][0] in w2v_vocab):\n",
        "    cur = model.wv.get_vector(test_comments[i][0])\n",
        "    for j in range(1, len(test_comments[i])):\n",
        "      if (test_comments[i][j] and test_comments[i][j] in w2v_vocab):\n",
        "        cur = np.sum([cur, model.wv.get_vector(test_comments[i][j])], axis = 0)\n",
        "  test_comms.append(cur/(len(test_comments[i])))"
      ],
      "metadata": {
        "id": "DUZxD5LJrNLx"
      },
      "execution_count": null,
      "outputs": []
    },
    {
      "cell_type": "code",
      "source": [
        "test_posts=[]\n",
        "for i in range(len(test_texts)):\n",
        "  if (test_texts[i] and test_texts[i][0] in w2v_vocab):\n",
        "    cur = model.wv.get_vector(test_texts[i][0])\n",
        "    for j in range(1, len(test_texts[i])):\n",
        "      if (test_texts[i][j] and test_texts[i][j] in w2v_vocab):\n",
        "        cur = np.sum([cur, model.wv.get_vector(test_texts[i][j])], axis = 0)\n",
        "  posts.append(cur/(len(test_texts[i])))"
      ],
      "metadata": {
        "id": "b-ZnCNfOr_uy"
      },
      "execution_count": null,
      "outputs": []
    },
    {
      "cell_type": "code",
      "source": [],
      "metadata": {
        "id": "rpV6-8xstrWU"
      },
      "execution_count": null,
      "outputs": []
    }
  ],
  "metadata": {
    "accelerator": "GPU",
    "colab": {
      "provenance": []
    },
    "gpuClass": "standard",
    "kernelspec": {
      "display_name": "Python 3",
      "name": "python3"
    },
    "language_info": {
      "name": "python"
    }
  },
  "nbformat": 4,
  "nbformat_minor": 0
}